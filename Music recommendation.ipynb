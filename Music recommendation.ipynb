{
 "cells": [
  {
   "cell_type": "raw",
   "id": "90521d79-c741-45b6-a815-431436a0fa80",
   "metadata": {},
   "source": []
  },
  {
   "cell_type": "markdown",
   "id": "310bc869-469a-4387-b41e-e890f781a8dc",
   "metadata": {},
   "source": [
    "###### Importing necessery libraries"
   ]
  },
  {
   "cell_type": "code",
   "execution_count": 1,
   "id": "7c1252c3-56ab-4aba-b218-46d49f5ca64b",
   "metadata": {},
   "outputs": [],
   "source": [
    "import numpy as np"
   ]
  },
  {
   "cell_type": "code",
   "execution_count": 2,
   "id": "21e9e89a-acb2-418e-b69d-721ab1575a54",
   "metadata": {},
   "outputs": [],
   "source": [
    "import pandas as pd"
   ]
  },
  {
   "cell_type": "code",
   "execution_count": 3,
   "id": "600cc28d-3841-4cd5-99a8-d320e3ed62e4",
   "metadata": {},
   "outputs": [],
   "source": [
    "from sklearn.feature_extraction.text import TfidfVectorizer"
   ]
  },
  {
   "cell_type": "code",
   "execution_count": 4,
   "id": "f871633b-ac72-45d3-af49-4bee23d1f72d",
   "metadata": {},
   "outputs": [],
   "source": [
    "from sklearn.metrics.pairwise import cosine_similarity"
   ]
  },
  {
   "cell_type": "code",
   "execution_count": 5,
   "id": "38acfd2f-29dd-458b-9bf0-1c61ec431620",
   "metadata": {},
   "outputs": [],
   "source": [
    "import pickle"
   ]
  },
  {
   "cell_type": "code",
   "execution_count": 6,
   "id": "ae8bcd79-866d-4933-87a4-55c2449a8fe2",
   "metadata": {},
   "outputs": [],
   "source": [
    "#load the dataset\n",
    "music_data = pd.read_csv(\"Music.csv\")"
   ]
  },
  {
   "cell_type": "code",
   "execution_count": 11,
   "id": "821dc028-3f88-4e23-b750-f929439a419e",
   "metadata": {},
   "outputs": [],
   "source": [
    "#combine relevent features for content based filtering\n",
    "music_data['combined_features'] = music_data['Singer/Artists'] + \" \" + music_data['Genre'] + \" \" + music_data['Album/Movie']"
   ]
  },
  {
   "cell_type": "code",
   "execution_count": 42,
   "id": "06fb86ac-f202-4426-9545-1d2f10a9f247",
   "metadata": {},
   "outputs": [
    {
     "data": {
      "text/plain": [
       "0       False\n",
       "1       False\n",
       "2       False\n",
       "3       False\n",
       "4       False\n",
       "        ...  \n",
       "2415    False\n",
       "2416    False\n",
       "2417    False\n",
       "2418    False\n",
       "2419    False\n",
       "Name: combined_features, Length: 2407, dtype: bool"
      ]
     },
     "execution_count": 42,
     "metadata": {},
     "output_type": "execute_result"
    }
   ],
   "source": [
    "#Handle missing valu\n",
    "music_data['combined_features'].isna()"
   ]
  },
  {
   "cell_type": "code",
   "execution_count": 43,
   "id": "05c75ef7-28b7-4ccc-9b7b-b035e6b58774",
   "metadata": {},
   "outputs": [
    {
     "data": {
      "text/plain": [
       "0"
      ]
     },
     "execution_count": 43,
     "metadata": {},
     "output_type": "execute_result"
    }
   ],
   "source": [
    "music_data['combined_features'].isna().sum()"
   ]
  },
  {
   "cell_type": "code",
   "execution_count": 44,
   "id": "0a768e89-5e7a-404c-9bcd-5eb5f4f92d48",
   "metadata": {},
   "outputs": [],
   "source": [
    "music_data['combined_features'].dropna(inplace=True)"
   ]
  },
  {
   "cell_type": "code",
   "execution_count": 45,
   "id": "9b0e5272-9cf3-4548-a3d1-1162d42cbc8d",
   "metadata": {},
   "outputs": [
    {
     "data": {
      "text/plain": [
       "0       Kumar Sanu, Mika Singh, Neha Kakkar BollywoodD...\n",
       "1       Neha Kakkar, Tony Kakkar BollywoodDanceRomanti...\n",
       "2                  Ranveer Singh BollywoodDance Gully Boy\n",
       "3       Jyotica Tangri, Shaan, Subhro Ganguly Bollywoo...\n",
       "4       Asees Kaur, Rahat Fateh Ali Khan, Tanishk Bagc...\n",
       "                              ...                        \n",
       "2415                        Mukesh BollywoodDance Sasural\n",
       "2416    Lata Mangeshkar BollywoodDance Jab Pyar Kisi S...\n",
       "2417    Lata Mangeshkar, Suresh Wadkar BollywoodDance ...\n",
       "2418         Jagjit Kaur BollywoodDance Shola Aur Shabnam\n",
       "2419         Asha Bhosle BollywoodDance Shola Aur Shabnam\n",
       "Name: combined_features, Length: 2407, dtype: object"
      ]
     },
     "execution_count": 45,
     "metadata": {},
     "output_type": "execute_result"
    }
   ],
   "source": [
    "music_data['combined_features']"
   ]
  },
  {
   "cell_type": "code",
   "execution_count": 46,
   "id": "6f112737-e676-4f3b-98cc-9b1174d043b3",
   "metadata": {},
   "outputs": [
    {
     "data": {
      "text/plain": [
       "0"
      ]
     },
     "execution_count": 46,
     "metadata": {},
     "output_type": "execute_result"
    }
   ],
   "source": [
    "music_data['combined_features'].isna().sum()"
   ]
  },
  {
   "cell_type": "code",
   "execution_count": 47,
   "id": "1d2234c9-5d06-4592-97a3-9f3e6e2c2cd1",
   "metadata": {},
   "outputs": [],
   "source": [
    "# Remove rows with null values in the 'combined_features' column\n",
    "music_data = music_data.dropna(subset=['combined_features'])"
   ]
  },
  {
   "cell_type": "code",
   "execution_count": 48,
   "id": "02e7c09a-8914-49c7-b879-863febefe7d5",
   "metadata": {},
   "outputs": [
    {
     "data": {
      "text/plain": [
       "0"
      ]
     },
     "execution_count": 48,
     "metadata": {},
     "output_type": "execute_result"
    }
   ],
   "source": [
    "music_data['combined_features'].isna().sum()"
   ]
  },
  {
   "cell_type": "code",
   "execution_count": 49,
   "id": "90b59a60-7607-4b2c-8428-fd8452590e4b",
   "metadata": {},
   "outputs": [],
   "source": [
    "# Apply TF-IDF to the combined features\n",
    "tfidf = TfidfVectorizer(stop_words='english')\n",
    "tfidf_matrix = tfidf.fit_transform(music_data['combined_features'])"
   ]
  },
  {
   "cell_type": "code",
   "execution_count": 50,
   "id": "136e68b0-e9ea-4ba2-9da5-3b4f1dbccc7e",
   "metadata": {},
   "outputs": [],
   "source": [
    "# Compute cosine similarity\n",
    "cosine_sim = cosine_similarity(tfidf_matrix, tfidf_matrix)"
   ]
  },
  {
   "cell_type": "code",
   "execution_count": 51,
   "id": "06ee2aac-0f0f-4be2-8aee-128f299033dc",
   "metadata": {},
   "outputs": [],
   "source": [
    "# Create a series to map song names to indices\n",
    "indices = pd.Series(music_data.index, index=music_data['Song-Name']).drop_duplicates()"
   ]
  },
  {
   "cell_type": "code",
   "execution_count": 52,
   "id": "6ac40f70-fc5c-4373-9c09-da190af7d047",
   "metadata": {},
   "outputs": [],
   "source": [
    "# Updated recommendation function to return song names\n",
    "def get_recommendations(song_name, cosine_sim=cosine_sim):\n",
    "    idx = indices[song_name]  # Get the index of the song in the dataset\n",
    "    sim_scores = list(enumerate(cosine_sim[idx]))  # Get pairwise similarity scores\n",
    "    sim_scores = sorted(sim_scores, key=lambda x: x[1], reverse=True)  # Sort by similarity score\n",
    "    sim_scores = sim_scores[1:6]  # Get top 5 similar songs (ignoring the first because it's the song itself)\n",
    "    \n",
    "    # Get the song indices for the top 5 recommendations\n",
    "    song_indices = [i[0] for i in sim_scores]\n",
    "    \n",
    "    # Return the actual song names\n",
    "    return music_data['Song-Name'].iloc[song_indices].tolist()\n"
   ]
  },
  {
   "cell_type": "code",
   "execution_count": 53,
   "id": "749f978c-9c18-4496-955d-6293b14784c8",
   "metadata": {},
   "outputs": [
    {
     "name": "stdout",
     "output_type": "stream",
     "text": [
      "Model saved successfully!\n"
     ]
    }
   ],
   "source": [
    "import pickle\n",
    "\n",
    "model_to_save = (tfidf, cosine_sim, indices, music_data)\n",
    "\n",
    "# Save the model to a file\n",
    "with open('music_recommendation_model.pkl', 'wb') as model_file:\n",
    "    pickle.dump(model_to_save, model_file)\n",
    "\n",
    "print(\"Model saved successfully!\")\n"
   ]
  },
  {
   "cell_type": "code",
   "execution_count": 54,
   "id": "5a3d99eb-ce40-477d-a278-0bd2d56b7e13",
   "metadata": {},
   "outputs": [],
   "source": [
    "import pickle\n",
    "\n",
    "# Load the saved model\n",
    "with open('music_recommendation_model.pkl', 'rb') as model_file:\n",
    "    tfidf, cosine_sim, indices, music_data = pickle.load(model_file)\n"
   ]
  },
  {
   "cell_type": "code",
   "execution_count": 55,
   "id": "9933cb0d-fe02-4c6e-81b0-ecd9ff09ae15",
   "metadata": {},
   "outputs": [
    {
     "name": "stdout",
     "output_type": "stream",
     "text": [
      "Model saved successfully!\n"
     ]
    }
   ],
   "source": [
    "import pickle\n",
    "\n",
    "# tfidf, cosine_sim, indices, music_data\n",
    "\n",
    "# Prepare a tuple to save\n",
    "model_to_save = (tfidf, cosine_sim, indices)\n",
    "\n",
    "# Save the model to a file\n",
    "with open('music_recommendation_model.pkl', 'wb') as model_file:\n",
    "    pickle.dump(model_to_save, model_file)\n",
    "\n",
    "print(\"Model saved successfully!\")\n"
   ]
  },
  {
   "cell_type": "code",
   "execution_count": 56,
   "id": "17d5497a-5839-4555-8e38-f39d7fd1159c",
   "metadata": {},
   "outputs": [
    {
     "name": "stdout",
     "output_type": "stream",
     "text": [
      "['Mere Gully Mein', 'Doori', 'Meri Aawargi', 'Wat Wat Wat', 'Sooraj Dooba Hai Yaron (Remix)']\n"
     ]
    }
   ],
   "source": [
    "# Test the recommendation system\n",
    "print(get_recommendations('Mere Gully Mein'))"
   ]
  },
  {
   "cell_type": "code",
   "execution_count": 57,
   "id": "e864273d-3a2e-44f5-9d5f-2a38794b2e5d",
   "metadata": {},
   "outputs": [
    {
     "name": "stdout",
     "output_type": "stream",
     "text": [
      "Model saved successfully!\n"
     ]
    }
   ],
   "source": [
    "\n",
    "# Apply TF-IDF to the combined features\n",
    "tfidf = TfidfVectorizer(stop_words='english')\n",
    "tfidf_matrix = tfidf.fit_transform(music_data['combined_features'])\n",
    "\n",
    "# Calculate cosine similarity matrix\n",
    "cosine_sim = cosine_similarity(tfidf_matrix, tfidf_matrix)\n",
    "\n",
    "# Save song indices for later use\n",
    "indices = pd.Series(music_data.index, index=music_data['Song-Name']).drop_duplicates()\n",
    "\n",
    "# Save the model (TF-IDF, cosine similarity, indices, and data)\n",
    "model_to_save = (tfidf, cosine_sim, indices, music_data)\n",
    "with open('music_recommendation_model.pkl', 'wb') as model_file:\n",
    "    pickle.dump(model_to_save, model_file)\n",
    "\n",
    "print(\"Model saved successfully!\")"
   ]
  },
  {
   "cell_type": "code",
   "execution_count": null,
   "id": "bb07e9f6-ce44-4e03-b377-bcc29d69876a",
   "metadata": {},
   "outputs": [],
   "source": []
  },
  {
   "cell_type": "code",
   "execution_count": null,
   "id": "b684638e-4b5a-4044-9d7a-4739db3ee765",
   "metadata": {},
   "outputs": [],
   "source": []
  }
 ],
 "metadata": {
  "kernelspec": {
   "display_name": "Python 3 (ipykernel)",
   "language": "python",
   "name": "python3"
  },
  "language_info": {
   "codemirror_mode": {
    "name": "ipython",
    "version": 3
   },
   "file_extension": ".py",
   "mimetype": "text/x-python",
   "name": "python",
   "nbconvert_exporter": "python",
   "pygments_lexer": "ipython3",
   "version": "3.12.3"
  }
 },
 "nbformat": 4,
 "nbformat_minor": 5
}
